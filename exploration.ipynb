{
 "cells": [
  {
   "cell_type": "markdown",
   "id": "ac0cef5d",
   "metadata": {},
   "source": [
    "Import libraries and load the hugging face token from the environment"
   ]
  },
  {
   "cell_type": "code",
   "execution_count": 1,
   "id": "f932b8e5",
   "metadata": {},
   "outputs": [
    {
     "name": "stderr",
     "output_type": "stream",
     "text": [
      "/var/home/biggels/Documents/projects/embedding_guesser/.venv/lib64/python3.13/site-packages/tqdm/auto.py:21: TqdmWarning: IProgress not found. Please update jupyter and ipywidgets. See https://ipywidgets.readthedocs.io/en/stable/user_install.html\n",
      "  from .autonotebook import tqdm as notebook_tqdm\n"
     ]
    },
    {
     "data": {
      "text/plain": [
       "True"
      ]
     },
     "execution_count": 1,
     "metadata": {},
     "output_type": "execute_result"
    }
   ],
   "source": [
    "import os\n",
    "\n",
    "import huggingface_hub\n",
    "from dotenv import load_dotenv\n",
    "from sentence_transformers import SentenceTransformer\n",
    "\n",
    "load_dotenv()"
   ]
  },
  {
   "cell_type": "markdown",
   "id": "47125e0e",
   "metadata": {},
   "source": [
    "Log in to hugging face and download and initialize the model. It automatically caches it, so it won't re-download unless it doesn't find it in the cache."
   ]
  },
  {
   "cell_type": "code",
   "execution_count": 2,
   "id": "e10e60cb",
   "metadata": {},
   "outputs": [
    {
     "name": "stderr",
     "output_type": "stream",
     "text": [
      "Note: Environment variable`HF_TOKEN` is set and is the current active token independently from the token you've just configured.\n"
     ]
    }
   ],
   "source": [
    "huggingface_hub.login(token=os.environ[\"HF_TOKEN\"])\n",
    "\n",
    "model = SentenceTransformer(\"google/embeddinggemma-300m\")"
   ]
  },
  {
   "cell_type": "markdown",
   "id": "22b297fe",
   "metadata": {},
   "source": [
    "Compute embeddings and similarities. Can also use `util.dot_score` but `model.similarity` does the same thing."
   ]
  },
  {
   "cell_type": "code",
   "execution_count": 18,
   "id": "d1be0bb9",
   "metadata": {},
   "outputs": [
    {
     "name": "stdout",
     "output_type": "stream",
     "text": [
      "tall similarities to:\n",
      "tall: 1.0\n",
      "short: 0.6037871837615967\n",
      "towering: 0.7457535862922668\n",
      "tiny: 0.5710345506668091\n",
      "baseball: 0.5436898469924927\n",
      "basketball: 0.6031945943832397\n",
      "cat poster: 0.39621490240097046\n"
     ]
    }
   ],
   "source": [
    "sentences = [\n",
    "    \"tall\",\n",
    "    \"short\",\n",
    "    \"towering\",\n",
    "    \"tiny\",\n",
    "    \"baseball\",\n",
    "    \"basketball\",\n",
    "    \"cat poster\",\n",
    "]\n",
    "\n",
    "embeddings = model.encode(sentences)\n",
    "\n",
    "similarities = model.similarity(embeddings[0], embeddings)\n",
    "print(f\"{sentences[0]} similarities to:\")\n",
    "\n",
    "for index, score in enumerate(similarities[0]):\n",
    "    print(f\"{sentences[index]}: {score}\")"
   ]
  }
 ],
 "metadata": {
  "kernelspec": {
   "display_name": ".venv",
   "language": "python",
   "name": "python3"
  },
  "language_info": {
   "codemirror_mode": {
    "name": "ipython",
    "version": 3
   },
   "file_extension": ".py",
   "mimetype": "text/x-python",
   "name": "python",
   "nbconvert_exporter": "python",
   "pygments_lexer": "ipython3",
   "version": "3.13.7"
  }
 },
 "nbformat": 4,
 "nbformat_minor": 5
}
